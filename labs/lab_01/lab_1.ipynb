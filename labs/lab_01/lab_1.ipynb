{
 "cells": [
  {
   "cell_type": "markdown",
   "id": "cd220340-6627-49f9-bcab-24c0366f4c96",
   "metadata": {},
   "source": [
    "# Лабораторная работа №1 "
   ]
  },
  {
   "cell_type": "markdown",
   "id": "d17603ee-f0b9-407b-872b-86313873927d",
   "metadata": {},
   "source": [
    "## Подколодный Артём ИУ10-56"
   ]
  },
  {
   "cell_type": "markdown",
   "id": "fa9dac5b-17d6-4eb4-afbc-c8f04472f540",
   "metadata": {},
   "source": [
    "# Задание №1"
   ]
  },
  {
   "cell_type": "code",
   "execution_count": 87,
   "id": "29c96b97-dc6e-4a2b-87af-7ba18f7a6943",
   "metadata": {},
   "outputs": [],
   "source": [
    "import numpy as np\n",
    "score = 0\n",
    "\n",
    "def max_after_zero(x: np.array) -> int:\n",
    "    # маска: элементы, у которых предыдущий = 0\n",
    "    mask = x[:-1] == 0\n",
    "    # берём те элементы, что идут после нулей\n",
    "    after_zero = x[1:][mask]\n",
    "    # ищем максимум\n",
    "    return np.max(after_zero)\n",
    "    "
   ]
  },
  {
   "cell_type": "code",
   "execution_count": 88,
   "id": "68b64a8a-9057-427e-8f74-4448bc8ad7cc",
   "metadata": {},
   "outputs": [
    {
     "name": "stdout",
     "output_type": "stream",
     "text": [
      "Выполнено\n"
     ]
    }
   ],
   "source": [
    "x = np.array([0, 1, 12, 0, 6, 0, 10, 0])\n",
    "assert max_after_zero(x) == 10, 'Тест не пройден'\n",
    "\n",
    "x = np.array([0, 3, 2, 0, 8, 0, 1, 10])\n",
    "assert max_after_zero(x) == 8, 'Тест не пройден'\n",
    "\n",
    "print(\"Выполнено\")\n",
    "score += 1\n"
   ]
  },
  {
   "cell_type": "markdown",
   "id": "9e0edd52-b733-4544-a233-b794f8febc5f",
   "metadata": {},
   "source": [
    "# Задание №2"
   ]
  },
  {
   "cell_type": "code",
   "execution_count": 89,
   "id": "78885507-42ea-438a-a8bb-2597de218c44",
   "metadata": {},
   "outputs": [],
   "source": [
    "import numpy as np\n",
    "\n",
    "\n",
    "def block_matrix(block: np.array) -> np.array:\n",
    "    \"\"\"\n",
    "    Задание: построить блочную матрицу из четырех блоков, где каждый блок представляет собой заданную матрицу\n",
    "\n",
    "    Вход: np.array([[1, 2], [3, 4]])\n",
    "    Выход: np.array([[1, 2, 1, 2],\n",
    "                     [3, 4, 3, 4],\n",
    "                     [1, 2, 1, 2],\n",
    "                     [3, 4, 3, 4]])\n",
    "    \"\"\"\n",
    "    return np.tile(block, (2, 2))\n"
   ]
  },
  {
   "cell_type": "code",
   "execution_count": 90,
   "id": "e0ed5935-7f15-46d5-9f98-7ea0e074cc2a",
   "metadata": {},
   "outputs": [
    {
     "name": "stdout",
     "output_type": "stream",
     "text": [
      "Выполнено\n"
     ]
    }
   ],
   "source": [
    "\n",
    "block = np.array([[1, 3, 3], [7, 0, 0]])\n",
    "assert np.allclose(\n",
    "    block_matrix(block),\n",
    "    np.array([[1, 3, 3, 1, 3, 3],\n",
    "              [7, 0, 0, 7, 0, 0],\n",
    "              [1, 3, 3, 1, 3, 3],\n",
    "              [7, 0, 0, 7, 0, 0]])\n",
    "), 'Тест не пройден'\n",
    "\n",
    "print(\"Выполнено\")\n",
    "score += 1"
   ]
  },
  {
   "cell_type": "markdown",
   "id": "9670997a-235e-494b-bc1d-7f3dcee7d43d",
   "metadata": {},
   "source": [
    "# Задание №3"
   ]
  },
  {
   "cell_type": "code",
   "execution_count": 91,
   "id": "57de6a53-f9f8-49d8-883d-fe5da058d11f",
   "metadata": {},
   "outputs": [],
   "source": [
    "import numpy as np\n",
    "\n",
    "\n",
    "def diag_prod(matrix: np.array) -> int:\n",
    "    \"\"\"\n",
    "    Вычислить произведение всех ненулевых диагональных элементов\n",
    "    квадратной матрицы.\n",
    "    \"\"\"\n",
    "    diag = np.diag(matrix)\n",
    "    nonzero_diag = diag[diag != 0]\n",
    "    return int(np.prod(nonzero_diag))\n"
   ]
  },
  {
   "cell_type": "code",
   "execution_count": 92,
   "id": "37db4983-6bf2-4977-ba4e-a6d03ff68a0a",
   "metadata": {},
   "outputs": [
    {
     "name": "stdout",
     "output_type": "stream",
     "text": [
      "Выполнено\n"
     ]
    }
   ],
   "source": [
    "matrix = np.array([[0, 1, 2, 3],\n",
    "                   [4, 5, 6, 7],\n",
    "                   [8, 9, 10, 11],\n",
    "                   [12, 13, 14, 15]])\n",
    "assert diag_prod(matrix) == 750, 'Тест не пройден'\n",
    "\n",
    "print(\"Выполнено\")\n",
    "score += 1"
   ]
  },
  {
   "cell_type": "markdown",
   "id": "558b625f-58d2-4aea-b400-64eb31d5585a",
   "metadata": {},
   "source": [
    "# Задание №4 "
   ]
  },
  {
   "cell_type": "code",
   "execution_count": 93,
   "id": "e9aadd2c-47a0-4198-a88a-8a9091eefbb4",
   "metadata": {},
   "outputs": [
    {
     "name": "stdout",
     "output_type": "stream",
     "text": [
      "Выполнено\n"
     ]
    }
   ],
   "source": [
    "import numpy as np\n",
    "\n",
    "\n",
    "\n",
    "from typing import Tuple\n",
    "\n",
    "class StandardScaler:\n",
    "    \"\"\"\n",
    "    Реализация StandardScaler из sklearn.\n",
    "    \"\"\"\n",
    "\n",
    "    def fit(self, X: np.array) -> None:\n",
    "        # Средние и дисперсии по столбцам (axis=0)\n",
    "        self.mean_ = np.mean(X, axis=0)\n",
    "        self.var_ = np.var(X, axis=0)\n",
    "    \n",
    "    def transform(self, X: np.array) -> np.array:\n",
    "        # Среднеквадратическое отклонение\n",
    "        sigma = np.sqrt(self.var_)\n",
    "        return (X - self.mean_) / sigma\n",
    "\n",
    "#ТЕСТЫ\n",
    "matrix = np.array([[1, 4, 4200], [0, 10, 5000], [1, 2, 1000]])\n",
    "\n",
    "scaler = StandardScaler()\n",
    "scaler.fit(matrix)\n",
    "\n",
    "assert np.allclose(\n",
    "    scaler.mean_,\n",
    "    np.array([0.66667, 5.3333, 3400])\n",
    "), 'Тест не пройден. Некорректное значение scaler.mean_'\n",
    "\n",
    "assert np.allclose(\n",
    "    scaler.var_,\n",
    "    np.array([0.22222, 11.5556, 2986666.67])\n",
    "), 'Тест не пройден. Некорректное значение scaler.var_'\n",
    "\n",
    "assert np.allclose(\n",
    "    scaler.transform(matrix),\n",
    "    np.array([[ 0.7071, -0.39223,  0.46291],\n",
    "              [-1.4142,  1.37281,  0.92582],\n",
    "              [ 0.7071, -0.98058, -1.38873]])\n",
    "), 'Тест не пройден. Некорректный результат scaler.transform(matrix)'\n",
    "\n",
    "\n",
    "print(\"Выполнено\")\n",
    "score += 1"
   ]
  },
  {
   "cell_type": "markdown",
   "id": "f5309c51-0e8c-4c9b-892d-5a6005119d23",
   "metadata": {},
   "source": [
    "# Задание №5"
   ]
  },
  {
   "cell_type": "code",
   "execution_count": 94,
   "id": "660f8233-1281-4855-a5fa-29c467ba13e8",
   "metadata": {},
   "outputs": [
    {
     "name": "stdout",
     "output_type": "stream",
     "text": [
      "Выполнено\n"
     ]
    }
   ],
   "source": [
    "import numpy as np\n",
    "\n",
    "\n",
    "\n",
    "def antiderivative(coefs: np.array, const: float) -> np.array:\n",
    "    \"\"\"\n",
    "    Вычислить первообразную полинома.\n",
    "    \"\"\"\n",
    "    n = len(coefs)\n",
    "    new_coefs = []\n",
    "    for i, coef in enumerate(coefs):\n",
    "        degree = n - i  # новая степень после интегрирования\n",
    "        new_coefs.append(coef / degree)\n",
    "    new_coefs.append(float(const))\n",
    "    return np.array(new_coefs, dtype=float)\n",
    "\n",
    "#ТЕСТЫ\n",
    "coefs = np.array([4, 6, 0, 1])\n",
    "const = 42.0\n",
    "assert np.allclose(\n",
    "    antiderivative(coefs, const),\n",
    "    np.array([1., 2., 0., 1., 42.])\n",
    "), 'Тест не пройден.'\n",
    "\n",
    "coefs = np.array([1, 7, -12, 21, -6])\n",
    "const = 42.0\n",
    "assert np.allclose(\n",
    "    antiderivative(coefs, const),\n",
    "    np.array([ 0.2, 1.75, -4., 10.5, -6., 42.])\n",
    "), 'Тест не пройден.'\n",
    "\n",
    "print(\"Выполнено\")\n",
    "score += 1"
   ]
  },
  {
   "cell_type": "code",
   "execution_count": 95,
   "id": "154a9389-801f-43c2-98de-6271027a7bd0",
   "metadata": {},
   "outputs": [
    {
     "name": "stdout",
     "output_type": "stream",
     "text": [
      "Итоговый балл: 5\n"
     ]
    }
   ],
   "source": [
    "print('Итоговый балл:', score)"
   ]
  }
 ],
 "metadata": {
  "kernelspec": {
   "display_name": "Python 3 (ipykernel)",
   "language": "python",
   "name": "python3"
  },
  "language_info": {
   "codemirror_mode": {
    "name": "ipython",
    "version": 3
   },
   "file_extension": ".py",
   "mimetype": "text/x-python",
   "name": "python",
   "nbconvert_exporter": "python",
   "pygments_lexer": "ipython3",
   "version": "3.13.5"
  }
 },
 "nbformat": 4,
 "nbformat_minor": 5
}
